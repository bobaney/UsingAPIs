{
 "cells": [
  {
   "cell_type": "markdown",
   "metadata": {},
   "source": [
    "## Census REST interface\n",
    "The US Ceneus Bureau, who's all about collecting and sharing data, provides a number of REST-ful API for accessing data. These APIs are documented here: https://www.census.gov/data/developers/data-sets.html\n",
    "\n",
    "This notebook provides example code how to access on of their API services, the [5-year Ammerican Community Service Data](https://www.census.gov/data/developers/data-sets/acs-5year.html)."
   ]
  },
  {
   "cell_type": "markdown",
   "metadata": {},
   "source": [
    "* First we need import the Python packages needed to access this API"
   ]
  },
  {
   "cell_type": "code",
   "execution_count": 1,
   "metadata": {},
   "outputs": [],
   "source": [
    "#Import modules\n",
    "import requests\n",
    "import pandas as pd"
   ]
  },
  {
   "cell_type": "markdown",
   "metadata": {},
   "source": [
    "* If you are going to use this API in production mode, you'll need to sign up for a key. It's free and mostly just keeps track of usage so nobody abuses the service provided. For just tinkering around, you can set the key to `None` and most features will still work."
   ]
  },
  {
   "cell_type": "code",
   "execution_count": 2,
   "metadata": {},
   "outputs": [],
   "source": [
    "#Set the key\n",
    "key = None"
   ]
  },
  {
   "cell_type": "markdown",
   "metadata": {},
   "source": [
    "### American Community Survey 5-Year Data (2009-2015)\n",
    "https://www.census.gov/data/developers/data-sets/acs-5year.html<br>\n",
    "https://api.census.gov/data/2015/acs5/examples.html"
   ]
  },
  {
   "cell_type": "markdown",
   "metadata": {},
   "source": [
    "* Here we construct the components of the REST-ful service, namely the service's endpoint and the parameters used to invoke the service to suit our needs. You'd need to consult the API documentation to determine what parameters are used and what values you'd include to get what you want."
   ]
  },
  {
   "cell_type": "code",
   "execution_count": 3,
   "metadata": {},
   "outputs": [],
   "source": [
    "#Endpoint and payload\n",
    "baseURL = 'https://api.census.gov/data/2015/acs5'\n",
    "payload = {'get':'NAME,B01001_001E',\n",
    "           'for':'county:*',\n",
    "           'in':'state:37',\n",
    "           'key':key\n",
    "          }"
   ]
  },
  {
   "cell_type": "markdown",
   "metadata": {},
   "source": [
    "* Now to send off the request to the Census server and hold the response locally"
   ]
  },
  {
   "cell_type": "code",
   "execution_count": 4,
   "metadata": {},
   "outputs": [],
   "source": [
    "# Sent the request and store the response\n",
    "response = requests.get(baseURL,payload)"
   ]
  },
  {
   "cell_type": "markdown",
   "metadata": {},
   "source": [
    "* Have a look at the repsonse object contents. We can access these contents both as text and as binary objects."
   ]
  },
  {
   "cell_type": "code",
   "execution_count": 5,
   "metadata": {},
   "outputs": [
    {
     "name": "stdout",
     "output_type": "stream",
     "text": [
      "<class 'str'> <class 'bytes'>\n"
     ]
    }
   ],
   "source": [
    "t = response.text\n",
    "c = response.content\n",
    "print(type(t), type(c))"
   ]
  },
  {
   "cell_type": "markdown",
   "metadata": {},
   "source": [
    "* Print the response as text.Looks like a list!"
   ]
  },
  {
   "cell_type": "code",
   "execution_count": 6,
   "metadata": {
    "scrolled": true
   },
   "outputs": [
    {
     "name": "stdout",
     "output_type": "stream",
     "text": [
      "[[\"NAME\",\"B01001_001E\",\"state\",\"county\"],\n",
      "[\"Alamance County, North Carolina\",\"155258\",\"37\",\"001\"],\n",
      "[\"Alexander County, North Carolina\",\"37158\",\"37\",\"003\"],\n",
      "[\"Alleghany County, North Carolina\",\"10911\",\"37\",\"005\"],\n",
      "[\"Anson County, North Carolina\",\"26135\",\"37\",\"007\"],\n",
      "[\"Ashe County, North Carolina\",\"27114\",\"37\",\"009\"],\n",
      "[\"Avery County, North Carolina\",\"17695\",\"37\",\"011\"],\n",
      "[\"Beaufort County, North Carolina\",\"47561\",\"37\",\"013\"],\n",
      "[\"Bertie County, North Carolina\",\"20518\",\"37\",\"015\"],\n",
      "[\"Bladen County, North Carolina\",\"34720\",\"37\",\"017\"],\n",
      "[\"Brunswick County, North Carolina\",\"115926\",\"37\",\"019\"],\n",
      "[\"Buncombe County, North Carolina\",\"247336\",\"37\",\"021\"],\n",
      "[\"Burke County, North Carolina\",\"89548\",\"37\",\"023\"],\n",
      "[\"Cabarrus County, North Carolina\",\"188375\",\"37\",\"025\"],\n",
      "[\"Caldwell County, North Carolina\",\"81758\",\"37\",\"027\"],\n",
      "[\"Camden County, North Carolina\",\"10161\",\"37\",\"029\"],\n",
      "[\"Carteret County, North Carolina\",\"68228\",\"37\",\"031\"],\n",
      "[\"Caswell County, North Carolina\",\"23174\",\"37\",\"033\"],\n",
      "[\"Catawba County, North Carolina\",\"154610\",\"37\",\"035\"],\n",
      "[\"Chatham County, North Carolina\",\"67431\",\"37\",\"037\"],\n",
      "[\"Cherokee County, North Carolina\",\"27092\",\"37\",\"039\"],\n",
      "[\"Chowan County, North Carolina\",\"14656\",\"37\",\"041\"],\n",
      "[\"Clay County, North Carolina\",\"10656\",\"37\",\"043\"],\n",
      "[\"Cleveland County, North Carolina\",\"97178\",\"37\",\"045\"],\n",
      "[\"Columbus County, North Carolina\",\"57230\",\"37\",\"047\"],\n",
      "[\"Craven County, North Carolina\",\"104450\",\"37\",\"049\"],\n",
      "[\"Cumberland County, North Carolina\",\"324603\",\"37\",\"051\"],\n",
      "[\"Currituck County, North Carolina\",\"24492\",\"37\",\"053\"],\n",
      "[\"Dare County, North Carolina\",\"34863\",\"37\",\"055\"],\n",
      "[\"Davidson County, North Carolina\",\"163867\",\"37\",\"057\"],\n",
      "[\"Davie County, North Carolina\",\"41447\",\"37\",\"059\"],\n",
      "[\"Duplin County, North Carolina\",\"59453\",\"37\",\"061\"],\n",
      "[\"Durham County, North Carolina\",\"288817\",\"37\",\"063\"],\n",
      "[\"Edgecombe County, North Carolina\",\"55280\",\"37\",\"065\"],\n",
      "[\"Forsyth County, North Carolina\",\"361684\",\"37\",\"067\"],\n",
      "[\"Franklin County, North Carolina\",\"62296\",\"37\",\"069\"],\n",
      "[\"Gaston County, North Carolina\",\"209807\",\"37\",\"071\"],\n",
      "[\"Gates County, North Carolina\",\"11724\",\"37\",\"073\"],\n",
      "[\"Graham County, North Carolina\",\"8700\",\"37\",\"075\"],\n",
      "[\"Granville County, North Carolina\",\"58109\",\"37\",\"077\"],\n",
      "[\"Greene County, North Carolina\",\"21328\",\"37\",\"079\"],\n",
      "[\"Guilford County, North Carolina\",\"506763\",\"37\",\"081\"],\n",
      "[\"Halifax County, North Carolina\",\"53407\",\"37\",\"083\"],\n",
      "[\"Harnett County, North Carolina\",\"124320\",\"37\",\"085\"],\n",
      "[\"Haywood County, North Carolina\",\"59170\",\"37\",\"087\"],\n",
      "[\"Henderson County, North Carolina\",\"109719\",\"37\",\"089\"],\n",
      "[\"Hertford County, North Carolina\",\"24368\",\"37\",\"091\"],\n",
      "[\"Hoke County, North Carolina\",\"51075\",\"37\",\"093\"],\n",
      "[\"Hyde County, North Carolina\",\"5693\",\"37\",\"095\"],\n",
      "[\"Iredell County, North Carolina\",\"165066\",\"37\",\"097\"],\n",
      "[\"Jackson County, North Carolina\",\"40812\",\"37\",\"099\"],\n",
      "[\"Johnston County, North Carolina\",\"178396\",\"37\",\"101\"],\n",
      "[\"Jones County, North Carolina\",\"10166\",\"37\",\"103\"],\n",
      "[\"Lee County, North Carolina\",\"59418\",\"37\",\"105\"],\n",
      "[\"Lenoir County, North Carolina\",\"58782\",\"37\",\"107\"],\n",
      "[\"Lincoln County, North Carolina\",\"79578\",\"37\",\"109\"],\n",
      "[\"McDowell County, North Carolina\",\"44961\",\"37\",\"111\"],\n",
      "[\"Macon County, North Carolina\",\"33919\",\"37\",\"113\"],\n",
      "[\"Madison County, North Carolina\",\"21027\",\"37\",\"115\"],\n",
      "[\"Martin County, North Carolina\",\"23729\",\"37\",\"117\"],\n",
      "[\"Mecklenburg County, North Carolina\",\"990288\",\"37\",\"119\"],\n",
      "[\"Mitchell County, North Carolina\",\"15330\",\"37\",\"121\"],\n",
      "[\"Montgomery County, North Carolina\",\"27601\",\"37\",\"123\"],\n",
      "[\"Moore County, North Carolina\",\"91743\",\"37\",\"125\"],\n",
      "[\"Nash County, North Carolina\",\"94722\",\"37\",\"127\"],\n",
      "[\"New Hanover County, North Carolina\",\"213091\",\"37\",\"129\"],\n",
      "[\"Northampton County, North Carolina\",\"21011\",\"37\",\"131\"],\n",
      "[\"Onslow County, North Carolina\",\"183753\",\"37\",\"133\"],\n",
      "[\"Orange County, North Carolina\",\"138644\",\"37\",\"135\"],\n",
      "[\"Pamlico County, North Carolina\",\"12982\",\"37\",\"137\"],\n",
      "[\"Pasquotank County, North Carolina\",\"40018\",\"37\",\"139\"],\n",
      "[\"Pender County, North Carolina\",\"55166\",\"37\",\"141\"],\n",
      "[\"Perquimans County, North Carolina\",\"13498\",\"37\",\"143\"],\n",
      "[\"Person County, North Carolina\",\"39262\",\"37\",\"145\"],\n",
      "[\"Pitt County, North Carolina\",\"173798\",\"37\",\"147\"],\n",
      "[\"Polk County, North Carolina\",\"20327\",\"37\",\"149\"],\n",
      "[\"Randolph County, North Carolina\",\"142370\",\"37\",\"151\"],\n",
      "[\"Richmond County, North Carolina\",\"46046\",\"37\",\"153\"],\n",
      "[\"Robeson County, North Carolina\",\"134871\",\"37\",\"155\"],\n",
      "[\"Rockingham County, North Carolina\",\"92300\",\"37\",\"157\"],\n",
      "[\"Rowan County, North Carolina\",\"138361\",\"37\",\"159\"],\n",
      "[\"Rutherford County, North Carolina\",\"66865\",\"37\",\"161\"],\n",
      "[\"Sampson County, North Carolina\",\"63873\",\"37\",\"163\"],\n",
      "[\"Scotland County, North Carolina\",\"35932\",\"37\",\"165\"],\n",
      "[\"Stanly County, North Carolina\",\"60586\",\"37\",\"167\"],\n",
      "[\"Stokes County, North Carolina\",\"46661\",\"37\",\"169\"],\n",
      "[\"Surry County, North Carolina\",\"73170\",\"37\",\"171\"],\n",
      "[\"Swain County, North Carolina\",\"14163\",\"37\",\"173\"],\n",
      "[\"Transylvania County, North Carolina\",\"32928\",\"37\",\"175\"],\n",
      "[\"Tyrrell County, North Carolina\",\"4152\",\"37\",\"177\"],\n",
      "[\"Union County, North Carolina\",\"213422\",\"37\",\"179\"],\n",
      "[\"Vance County, North Carolina\",\"44829\",\"37\",\"181\"],\n",
      "[\"Wake County, North Carolina\",\"976019\",\"37\",\"183\"],\n",
      "[\"Warren County, North Carolina\",\"20468\",\"37\",\"185\"],\n",
      "[\"Washington County, North Carolina\",\"12668\",\"37\",\"187\"],\n",
      "[\"Watauga County, North Carolina\",\"52240\",\"37\",\"189\"],\n",
      "[\"Wayne County, North Carolina\",\"124355\",\"37\",\"191\"],\n",
      "[\"Wilkes County, North Carolina\",\"68946\",\"37\",\"193\"],\n",
      "[\"Wilson County, North Carolina\",\"81581\",\"37\",\"195\"],\n",
      "[\"Yadkin County, North Carolina\",\"37971\",\"37\",\"197\"],\n",
      "[\"Yancey County, North Carolina\",\"17604\",\"37\",\"199\"]]\n"
     ]
    }
   ],
   "source": [
    "print (t)"
   ]
  },
  {
   "cell_type": "markdown",
   "metadata": {},
   "source": [
    "### 2012 Survey of Business Owners: Company Summary\n",
    "https://www.census.gov/data/developers/data-sets/business-owners.html\n",
    "\n",
    "* Variables: api.census.gov/data/2012/sbo"
   ]
  },
  {
   "cell_type": "markdown",
   "metadata": {},
   "source": [
    "* From here, it's a matter of exploring and interpreting your results. Often you'll want to convert your results to a JSON object. This often yields a list or dictionary which we can control more easily than a long text object."
   ]
  },
  {
   "cell_type": "code",
   "execution_count": 7,
   "metadata": {},
   "outputs": [],
   "source": [
    "#Convert the response object to JSON format.\n",
    "j = response.json()"
   ]
  },
  {
   "cell_type": "code",
   "execution_count": 8,
   "metadata": {},
   "outputs": [
    {
     "data": {
      "text/plain": [
       "list"
      ]
     },
     "execution_count": 8,
     "metadata": {},
     "output_type": "execute_result"
    }
   ],
   "source": [
    "#What type of variable is returned\n",
    "type(j)"
   ]
  },
  {
   "cell_type": "code",
   "execution_count": 9,
   "metadata": {},
   "outputs": [
    {
     "data": {
      "text/plain": [
       "[['NAME', 'B01001_001E', 'state', 'county'],\n",
       " ['Alamance County, North Carolina', '155258', '37', '001']]"
      ]
     },
     "execution_count": 9,
     "metadata": {},
     "output_type": "execute_result"
    }
   ],
   "source": [
    "#Print the first two items in the list\n",
    "j[0:2]"
   ]
  },
  {
   "cell_type": "code",
   "execution_count": null,
   "metadata": {},
   "outputs": [],
   "source": [
    "#Convert to a dataframe\n",
    "dfACS = pd.DataFrame(j[1:],columns=j[0])\n",
    "dfACS['B01001_001E'] = dfACS['B01001_001E'].astype('int')\n",
    "dfACS.head(10)"
   ]
  },
  {
   "cell_type": "code",
   "execution_count": null,
   "metadata": {},
   "outputs": [],
   "source": [
    "%matplotlib inline\n",
    "dfACS.head(10).set_index('NAME').plot(kind='barh');"
   ]
  }
 ],
 "metadata": {
  "kernelspec": {
   "display_name": "Python 3",
   "language": "python",
   "name": "python3"
  },
  "language_info": {
   "codemirror_mode": {
    "name": "ipython",
    "version": 3
   },
   "file_extension": ".py",
   "mimetype": "text/x-python",
   "name": "python",
   "nbconvert_exporter": "python",
   "pygments_lexer": "ipython3",
   "version": "3.6.5"
  }
 },
 "nbformat": 4,
 "nbformat_minor": 2
}
